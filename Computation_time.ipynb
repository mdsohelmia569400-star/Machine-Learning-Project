{
  "nbformat": 4,
  "nbformat_minor": 0,
  "metadata": {
    "colab": {
      "provenance": []
    },
    "kernelspec": {
      "name": "python3",
      "display_name": "Python 3"
    },
    "language_info": {
      "name": "python"
    }
  },
  "cells": [
    {
      "cell_type": "code",
      "execution_count": null,
      "metadata": {
        "colab": {
          "base_uri": "https://localhost:8080/"
        },
        "id": "Ef41QnPQL53y",
        "outputId": "b708d56d-ea6d-4af4-d672-70bf2239d1c1"
      },
      "outputs": [
        {
          "output_type": "stream",
          "name": "stdout",
          "text": [
            "Training time: 0.0578 seconds\n",
            "Prediction time: 0.000653 seconds\n"
          ]
        }
      ],
      "source": [
        "import time\n",
        "from sklearn.datasets import load_iris\n",
        "from sklearn.linear_model import LogisticRegression\n",
        "\n",
        "# Load dataset\n",
        "X, y = load_iris(return_X_y=True)\n",
        "\n",
        "# Create the model\n",
        "model = LogisticRegression(max_iter=200)\n",
        "\n",
        "# Measure training time\n",
        "start_train = time.time()\n",
        "model.fit(X, y)\n",
        "end_train = time.time()\n",
        "print(f\"Training time: {end_train - start_train:.4f} seconds\")\n",
        "\n",
        "# Measure prediction time\n",
        "start_pred = time.time()\n",
        "predictions = model.predict(X)\n",
        "end_pred = time.time()\n",
        "print(f\"Prediction time: {end_pred - start_pred:.6f} seconds\")\n"
      ]
    }
  ]
}