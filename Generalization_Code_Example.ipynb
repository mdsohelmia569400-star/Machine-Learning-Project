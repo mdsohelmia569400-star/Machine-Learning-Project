{
  "nbformat": 4,
  "nbformat_minor": 0,
  "metadata": {
    "colab": {
      "provenance": []
    },
    "kernelspec": {
      "name": "python3",
      "display_name": "Python 3"
    },
    "language_info": {
      "name": "python"
    }
  },
  "cells": [
    {
      "cell_type": "code",
      "execution_count": null,
      "metadata": {
        "colab": {
          "base_uri": "https://localhost:8080/"
        },
        "id": "HTwE_wOrsX1q",
        "outputId": "92771e94-1eab-4544-b577-2d34ba73a4b6"
      },
      "outputs": [
        {
          "output_type": "stream",
          "name": "stdout",
          "text": [
            "Generalization Accuracy on Unseen Test Data: 100.00%\n"
          ]
        }
      ],
      "source": [
        "from sklearn.datasets import load_iris\n",
        "from sklearn.model_selection import train_test_split\n",
        "from sklearn.svm import SVC\n",
        "from sklearn.metrics import accuracy_score\n",
        "\n",
        "# Load the Iris dataset\n",
        "iris = load_iris()\n",
        "X, y = iris.data, iris.target\n",
        "\n",
        "# Split data into train and test sets (80% train, 20% test)\n",
        "X_train, X_test, y_train, y_test = train_test_split(X, y, test_size=0.2, random_state=42)\n",
        "\n",
        "# Train a Support Vector Machine classifier\n",
        "model = SVC(kernel='linear')\n",
        "model.fit(X_train, y_train)\n",
        "\n",
        "# Predict on unseen test data\n",
        "y_pred = model.predict(X_test)\n",
        "\n",
        "# Check accuracy (how well it generalizes)\n",
        "accuracy = accuracy_score(y_test, y_pred)\n",
        "print(f\"Generalization Accuracy on Unseen Test Data: {accuracy * 100:.2f}%\")\n"
      ]
    },
    {
      "cell_type": "code",
      "source": [
        "from sklearn.model_selection import cross_val_score, KFold, train_test_split"
      ],
      "metadata": {
        "id": "E52Zq5pwsZTi"
      },
      "execution_count": null,
      "outputs": []
    },
    {
      "cell_type": "code",
      "source": [
        "# Set up 10-fold cross-validation\n",
        "num_folds = 10\n",
        "kf = KFold(n_splits=num_folds, shuffle=True, random_state=42)\n",
        "\n",
        "# Perform cross-validation\n",
        "cross_val_results = cross_val_score(model, X, y, cv=kf)\n",
        "\n",
        "# Print accuracy for each fold\n",
        "print(\"\\nCross-Validation Results (Accuracy):\")\n",
        "for i, result in enumerate(cross_val_results, 1):\n",
        "    print(f\"  Fold {i}: {result * 100:.2f}%\")\n",
        "\n",
        "print(f'Mean Accuracy from Cross-Validation: {cross_val_results.mean() * 100:.2f}%')\n"
      ],
      "metadata": {
        "colab": {
          "base_uri": "https://localhost:8080/"
        },
        "id": "Sv1j7Hs1sZW0",
        "outputId": "4cf915c0-4e51-4302-d3dd-de33caad3e74"
      },
      "execution_count": null,
      "outputs": [
        {
          "output_type": "stream",
          "name": "stdout",
          "text": [
            "\n",
            "Cross-Validation Results (Accuracy):\n",
            "  Fold 1: 100.00%\n",
            "  Fold 2: 100.00%\n",
            "  Fold 3: 100.00%\n",
            "  Fold 4: 100.00%\n",
            "  Fold 5: 100.00%\n",
            "  Fold 6: 93.33%\n",
            "  Fold 7: 86.67%\n",
            "  Fold 8: 100.00%\n",
            "  Fold 9: 100.00%\n",
            "  Fold 10: 93.33%\n",
            "Mean Accuracy from Cross-Validation: 97.33%\n"
          ]
        }
      ]
    },
    {
      "cell_type": "code",
      "source": [],
      "metadata": {
        "id": "M9BJIyUBsZZw"
      },
      "execution_count": null,
      "outputs": []
    },
    {
      "cell_type": "code",
      "source": [],
      "metadata": {
        "id": "SHhDACGXsZcl"
      },
      "execution_count": null,
      "outputs": []
    },
    {
      "cell_type": "code",
      "source": [],
      "metadata": {
        "id": "E2G9V-dnsZf0"
      },
      "execution_count": null,
      "outputs": []
    },
    {
      "cell_type": "code",
      "source": [],
      "metadata": {
        "id": "sin5PZVssZis"
      },
      "execution_count": null,
      "outputs": []
    },
    {
      "cell_type": "code",
      "source": [],
      "metadata": {
        "id": "O-Waq2uHsZlu"
      },
      "execution_count": null,
      "outputs": []
    },
    {
      "cell_type": "code",
      "source": [],
      "metadata": {
        "id": "S5btCCGPsZo1"
      },
      "execution_count": null,
      "outputs": []
    },
    {
      "cell_type": "code",
      "source": [],
      "metadata": {
        "id": "cfRuj9DpsZsa"
      },
      "execution_count": null,
      "outputs": []
    },
    {
      "cell_type": "code",
      "source": [],
      "metadata": {
        "id": "5kHHo0SEsZv9"
      },
      "execution_count": null,
      "outputs": []
    }
  ]
}