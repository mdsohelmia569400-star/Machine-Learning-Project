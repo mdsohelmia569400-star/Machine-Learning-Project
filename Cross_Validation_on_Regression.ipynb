{
  "nbformat": 4,
  "nbformat_minor": 0,
  "metadata": {
    "colab": {
      "provenance": []
    },
    "kernelspec": {
      "name": "python3",
      "display_name": "Python 3"
    },
    "language_info": {
      "name": "python"
    }
  },
  "cells": [
    {
      "cell_type": "code",
      "execution_count": null,
      "metadata": {
        "colab": {
          "base_uri": "https://localhost:8080/"
        },
        "id": "W0J76zTY1R3V",
        "outputId": "787abfc7-59df-4781-c809-047d3e2add40"
      },
      "outputs": [
        {
          "output_type": "stream",
          "name": "stdout",
          "text": [
            "R² Scores: [0.99463423 0.98412153 0.98584032 0.99094125 0.98787217]\n",
            "Average R² Score: 0.9886819004122156\n",
            "\n",
            "MSE Scores: [ 78.03947316 177.14216897 127.50389178 111.63476136  97.84311545]\n",
            "Average MSE: 118.43268214336877\n"
          ]
        }
      ],
      "source": [
        "from sklearn.datasets import make_regression\n",
        "from sklearn.linear_model import LinearRegression\n",
        "from sklearn.model_selection import cross_val_score\n",
        "from sklearn.metrics import mean_squared_error, make_scorer\n",
        "import numpy as np\n",
        "\n",
        "# 1. Create a sample regression dataset\n",
        "X, y = make_regression(n_samples=100, n_features=2, noise=10, random_state=42)\n",
        "\n",
        "# 2. Define the model\n",
        "model = LinearRegression()\n",
        "\n",
        "# 3. Perform 5-fold cross-validation using default R² score\n",
        "r2_scores = cross_val_score(model, X, y, cv=5)\n",
        "print(\"R² Scores:\", r2_scores)\n",
        "print(\"Average R² Score:\", np.mean(r2_scores))\n",
        "\n",
        "# 4. Perform 5-fold cross-validation using negative MSE\n",
        "mse_scorer = make_scorer(mean_squared_error, greater_is_better=False)\n",
        "neg_mse_scores = cross_val_score(model, X, y, cv=5, scoring=mse_scorer)\n",
        "\n",
        "# Convert to positive MSE\n",
        "mse_scores = -neg_mse_scores\n",
        "print(\"\\nMSE Scores:\", mse_scores)\n",
        "print(\"Average MSE:\", np.mean(mse_scores))\n"
      ]
    }
  ]
}