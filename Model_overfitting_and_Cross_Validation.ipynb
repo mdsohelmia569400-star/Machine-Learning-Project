{
  "nbformat": 4,
  "nbformat_minor": 0,
  "metadata": {
    "colab": {
      "provenance": []
    },
    "kernelspec": {
      "name": "python3",
      "display_name": "Python 3"
    },
    "language_info": {
      "name": "python"
    }
  },
  "cells": [
    {
      "cell_type": "code",
      "execution_count": null,
      "metadata": {
        "colab": {
          "base_uri": "https://localhost:8080/"
        },
        "id": "CzBV9QF5JRE0",
        "outputId": "4fcd5241-9f75-4cd1-fcd8-c7af85d842f9"
      },
      "outputs": [
        {
          "output_type": "stream",
          "name": "stdout",
          "text": [
            "Cross-validation scores: [0.96666667 0.96666667 0.9        0.93333333 1.        ]\n",
            "Average score: 0.9533333333333334\n"
          ]
        }
      ],
      "source": [
        "from sklearn.model_selection import cross_val_score\n",
        "from sklearn.ensemble import RandomForestClassifier\n",
        "from sklearn.datasets import load_iris\n",
        "\n",
        "# Load example data\n",
        "data = load_iris()\n",
        "X, y = data.data, data.target\n",
        "\n",
        "# Initialize model\n",
        "model = RandomForestClassifier()\n",
        "\n",
        "# Perform 5-fold cross-validation\n",
        "scores = cross_val_score(model, X, y, cv=5)\n",
        "\n",
        "print(\"Cross-validation scores:\", scores)\n",
        "print(\"Average score:\", scores.mean())\n"
      ]
    },
    {
      "cell_type": "code",
      "source": [
        "import pandas as pd\n",
        "from sklearn.model_selection import cross_val_score\n",
        "from sklearn.ensemble import RandomForestClassifier\n",
        "from sklearn.model_selection import train_test_split\n",
        "\n",
        "# Load your Titanic dataset\n",
        "df = pd.read_csv('titanic (1).csv')\n",
        "\n",
        "# Simple preprocessing (you can customize this)\n",
        "df = df[['Survived', 'Pclass', 'Sex', 'Age']]\n",
        "df.dropna(inplace=True)\n",
        "df['Sex'] = df['Sex'].map({'male': 0, 'female': 1})\n",
        "\n",
        "X = df[['Pclass', 'Sex', 'Age']]\n",
        "y = df['Survived']\n",
        "\n",
        "# Train/test split — for comparison\n",
        "X_train, X_test, y_train, y_test = train_test_split(X, y, test_size=0.2, random_state=42)\n",
        "\n",
        "# Model\n",
        "model = RandomForestClassifier()\n",
        "\n",
        "# Train accuracy\n",
        "model.fit(X_train, y_train)\n",
        "train_acc = model.score(X_train, y_train)\n",
        "\n",
        "# Test accuracy\n",
        "test_acc = model.score(X_test, y_test)\n",
        "\n",
        "# Cross-validation (5-fold)\n",
        "cv_scores = cross_val_score(model, X, y, cv=5)\n",
        "cv_mean = cv_scores.mean()\n",
        "\n",
        "print(f\"Train Accuracy: {train_acc:.4f}\")\n",
        "print(f\"Test Accuracy: {test_acc:.4f}\")\n",
        "print(f\"Cross-Validation Accuracy (mean): {cv_mean:.4f}\")\n"
      ],
      "metadata": {
        "colab": {
          "base_uri": "https://localhost:8080/"
        },
        "id": "CE6Fa1sMJRwt",
        "outputId": "084606b2-0529-499b-95a2-f2cae0a86518"
      },
      "execution_count": null,
      "outputs": [
        {
          "output_type": "stream",
          "name": "stdout",
          "text": [
            "Train Accuracy: 0.9072\n",
            "Test Accuracy: 0.7622\n",
            "Cross-Validation Accuracy (mean): 0.8137\n"
          ]
        }
      ]
    },
    {
      "cell_type": "code",
      "source": [],
      "metadata": {
        "id": "om8c7z_VJR0U"
      },
      "execution_count": null,
      "outputs": []
    },
    {
      "cell_type": "code",
      "source": [],
      "metadata": {
        "id": "fvAN01_XJR3M"
      },
      "execution_count": null,
      "outputs": []
    },
    {
      "cell_type": "code",
      "source": [],
      "metadata": {
        "id": "wrQS2U8rJR58"
      },
      "execution_count": null,
      "outputs": []
    },
    {
      "cell_type": "code",
      "source": [],
      "metadata": {
        "id": "UMIB2IbRJR8s"
      },
      "execution_count": null,
      "outputs": []
    },
    {
      "cell_type": "code",
      "source": [],
      "metadata": {
        "id": "0Qm0UcXsJR_c"
      },
      "execution_count": null,
      "outputs": []
    },
    {
      "cell_type": "code",
      "source": [],
      "metadata": {
        "id": "I73TkFUAJSCc"
      },
      "execution_count": null,
      "outputs": []
    },
    {
      "cell_type": "code",
      "source": [],
      "metadata": {
        "id": "q-T3ysf3JSFV"
      },
      "execution_count": null,
      "outputs": []
    }
  ]
}